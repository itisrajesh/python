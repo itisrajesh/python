{
 "cells": [
  {
   "cell_type": "markdown",
   "metadata": {
    "id": "QzD3LzXADOw9"
   },
   "source": [
    "# Numpy #\n",
    "\n",
    "Fundamental library for numerical computing in Python\n",
    "\n",
    "* Multi-dimensional Arrays and Matrices\n",
    "* Mathematical Functions\n",
    "* Performance and Speed\n",
    "* Integration with other libraries\n",
    "* Foundation for Scientific Computing\n",
    "\n",
    "## Numpy Methods\n",
    "\n",
    "#### Array Creation\n",
    "\n",
    "- `np.array(object, dtype=None, copy=True, order='K', subok=False, ndmin=0)`: Create a NumPy array from an object.\n",
    "  - data: Input data (list, tuple, etc.)\n",
    "  - dtype: Desired data type of array (e.g., np.int32, np.float64)\n",
    "  - copy: If True, the data is copied\n",
    "  - order: Memory layout order ('C', 'F', 'A', or 'K')\n",
    "  - subok: If True, subclasses are passed through\n",
    "  - ndmin: Minimum number of dimensions\n",
    "- `np.zeros(shape, dtype=float, order='C')`: Create an array of zeros with the specified shape and data type.\n",
    "  - shape: Shape of the array (tuple)\n",
    "  - dtype: Desired data type\n",
    "  - order: Memory layout order ('C' or 'F')\n",
    "- `np.ones(shape, dtype=float, order='C')`: Create an array of ones with the specified shape and data type.\n",
    "- `np.full(shape, fill_value, dtype=None, order='C')`: Create an array filled with a specified value.\n",
    "- `np.empty(shape, dtype=float, order='C')`: Create an empty array with the specified shape and data type.\n",
    "- `numpy.arange([start,] stop[, step,], dtype=None)`: Returns evenly spaced values within a given interval.\n",
    "  - start: Start of interval (inclusive, default is 0)\n",
    "  - stop: End of interval (exclusive)\n",
    "  - step: Spacing between values (default is 1)\n",
    "  - dtype: Desired data type\n",
    "- `numpy.linspace(start, stop, num=50, endpoint=True, retstep=False, dtype=None, axis=0)`: Returns evenly spaced numbers over a specified interval.\n",
    "  - start: Start of interval\n",
    "  - stop: End of interval\n",
    "  - num: Number of samples (default is 50)\n",
    "  - endpoint: If True, stop is the last sample\n",
    "  - retstep: If True, return (samples, step)\n",
    "  - dtype: Desired data type\n",
    "  - axis: Axis along which the samples are generated\n",
    "\n",
    "#### Array Manipulation\n",
    "\n",
    "- `np.reshape(a, newshape, order='C')`: Reshape an array to a new shape.\n",
    "  - a: Array to be reshaped\n",
    "  - newshape: Desired shape\n",
    "  - order: Memory layout order ('C', 'F', 'A')\n",
    "- `np.resize(a, new_shape)`: Resize an array to a new shape.\n",
    "- `np.transpose(a, axes=None)`: Transpose an array.\n",
    "  - a: Input array\n",
    "  - axes: By default, reverses the dimensions, otherwise permutes them according to the given axes\n",
    "- `np.flip(a, axis=None)`: Flip an array along a specified axis.\n",
    "- `np.roll(a, shift, axis=None)`: Roll an array along a specified axis.\n",
    "- `np.concatenate((a1, a2, ...), axis=0, out=None)`: Joins a sequence of arrays along an existing axis.\n",
    "  - a1, a2, ...: Sequence of arrays\n",
    "  - axis: Axis along which arrays will be joined (default is 0)\n",
    "  - out: If provided, the destination to place the result\n",
    "\n",
    "#### Indexing and Selection\n",
    "\n",
    "- `np.where(condition, x, y)`: Select values from two arrays based on a condition.\n",
    "- `np.take(a, indices, axis=None)`: Select values from an array at specified indices.\n",
    "- `np.put(a, indices, values, mode='raise')`: Set values in an array at specified indices.\n",
    "\n",
    "#### Mathematical Operations\n",
    "\n",
    "- `np.add(x1, x2, out=None)`: Element-wise addition of two arrays.\n",
    "- `np.subtract(x1, x2, out=None)`: Element-wise subtraction of two arrays.\n",
    "- `np.multiply(x1, x2, out=None)`: Element-wise multiplication of two arrays.\n",
    "- `np.divide(x1, x2, out=None)`: Element-wise division of two arrays.\n",
    "- `np.power(x1, x2, out=None)`: Element-wise exponentiation of two arrays.\n",
    "\n",
    "#### Statistical Functions\n",
    "\n",
    "- `np.mean(a, axis=None, dtype=None, out=None, keepdims=False)`: Calculate the mean of an array.\n",
    "- `np.median(a, axis=None, dtype=None, out=None, keepdims=False)`: Calculate the median of an array.\n",
    "- `np.std(a, axis=None, dtype=None, out=None, ddof=0, keepdims=False)`: Calculate the standard deviation of an array.\n",
    "- `np.var(a, axis=None, dtype=None, out=None, ddof=0, keepdims=False)`: Calculate the variance of an array.\n",
    "  - a: Input array\n",
    "  - axis: Axis along which the means are computed\n",
    "  - dtype: Desired data type\n",
    "  - out: Output array\n",
    "  - keepdims: If True, retains reduced dimensions\n",
    "\n",
    "#### Linear Algebra\n",
    "\n",
    "- `np.dot(a, b, out=None)`: Matrix product of two arrays.\n",
    "- `np.linalg.inv(a)`: Inverse of a matrix.\n",
    "- `np.linalg.det(a)`: Determinant of a matrix.\n",
    "- `np.linalg.solve(a, b)`: Solve a system of linear scalar equations.\n",
    "- `np.linalg.svd(a, full_matrices=True, compute_uv=True, hermitian=False)`: Computes the singular value decomposition of a matrix.\n",
    "  - a: Input matrix\n",
    "  - full_matrices: If True, U and Vh are of shape (M, M) and (N, N)\n",
    "  - compute_uv: If True, compute U and Vh\n",
    "  - hermitian: If True, assumes a is Hermitian\n",
    "\n",
    "#### Random Number Generation\n",
    "\n",
    "- `np.random.rand(d0, d1, ..., dn)`: Generate an array of random values.\n",
    "- `np.random.randn(d0, d1, ..., dn)`: Generate an array of random values from a normal distribution.\n",
    "- `np.random.randint(low, high=None, size=None, dtype='l')`: Generate an array of random integers.\n",
    "\n",
    "#### Other Functions\n",
    "\n",
    "- `np.all(a, axis=None, out=None, keepdims=False)`: Test whether all elements of an array are true.\n",
    "- `np.any(a, axis=None, out=None, keepdims=False)`: Test whether any elements of an array are true.\n",
    "- `np.sum(a, axis=None, dtype=None, out=None, keepdims=False)`: Calculate the sum of an array.\n",
    "\n",
    "#### File I/O\n",
    "\n",
    "- `np.save(file, arr, allow_pickle=True, fix_imports=True)`: Saves an array to a binary file in NumPy .npy format.\n",
    "  - file: Filename or file object\n",
    "  - arr: Array to be saved\n",
    "  - allow_pickle: If True, allows saving object arrays using Python pickles\n",
    "  - fix_imports: If True, tries to fix the pickle import issue\n",
    "- `np.load(file, mmap_mode=None, allow_pickle=False, fix_imports=True, encoding='ASCII')`: Loads arrays or pickled objects from .npy, .npz or pickled files.\n",
    "  - file: Filename or file object\n",
    "  - mmap_mode: Memory-map the file (default is None)\n",
    "  - allow_pickle: If True, allows loading pickled objects\n",
    "  - fix_imports: If True, fixes the pickle import issue\n",
    "  - encoding: What encoding to use when reading Python 2 strings\n",
    "\n",
    "### Parameters\n",
    "\n",
    "- a, x1, x2, etc.: Input arrays.\n",
    "- axis: Axis along which to perform an operation.\n",
    "- dtype: Data type of the output array.\n",
    "- out: Output array.\n",
    "- keepdims: Whether to keep the original dimensions of the input array.\n",
    "- order: Order of the output array (e.g., 'C' for C-style, 'F' for Fortran-style).\n",
    "- subok: Whether to return a subclass of ndarray instead of ndarray itself."
   ]
  },
  {
   "cell_type": "markdown",
   "metadata": {
    "id": "WsC1Ig1j_3dg"
   },
   "source": [
    "# Data Wrangling #\n",
    "\n",
    "### Transforming raw data into a usable format for analysis ###\n",
    "* Data Cleaning\n",
    "* Data Transformation\n",
    "* Data Enrichment\n",
    "* Data Standardization\n",
    "* Data Integration\n",
    "* Data accuracy\n",
    "* Data reliability\n",
    "* Improve performance of ML models\n",
    "* Enable efficient analysis\n",
    "* Extract valuable insights\n",
    "\n",
    "### Data handling Techniques ###\n",
    "* Parallel computing\n",
    "* Memory management\n",
    "* Caching\n",
    "* Lazy evaluation\n",
    "* Algorithm Optimization\n",
    "* Data compression\n",
    "* Vectorization\n",
    "* Optimized Libraries\n",
    "\n",
    "### Vectorization ###\n",
    "Technique which performs computations on arrays or matrices in an efficient manner\n",
    "\n",
    "* Hardware-Level Optimization: SIMD\n",
    "* Low-Level Libraries and BLAS\n",
    "* Efficient Use of Memory and Caching\n",
    "* Internal Implementation in High-Level Libraries\n",
    "* Parallel Processing on GPUs"
   ]
  },
  {
   "cell_type": "markdown",
   "metadata": {
    "id": "uQ_DnnsMFrzK"
   },
   "source": [
    "\n",
    "| Feature | NumPy Array | Python List |\n",
    "|---------|-------------|-------------|\n",
    "| Type | Homogeneous (same data type) | Heterogeneous (mixed data types) |\n",
    "| Memory efficiency | More efficient | Less efficient |\n",
    "| Speed | Faster for numerical operations | Slower for numerical operations |\n",
    "| Functionality | Optimized for numerical operations | General-purpose |\n",
    "| Size | Fixed size | Dynamic size |\n",
    "| Mutability | Mutable | Mutable |\n",
    "| Dimensions | Multi-dimensional | One-dimensional (can nest for multi-dimensional) |\n",
    "| Mathematical operations | Supports vectorized operations | Requires explicit looping |\n",
    "| Memory layout | Contiguous | Non-contiguous |\n",
    "| Creation | `np.array([1, 2, 3])` | `[1, 2, 3]` |\n",
    "| Indexing | Supports advanced indexing | Basic indexing |\n",
    "| Slicing | Returns a view (memory efficient) | Returns a new list (copy) |\n",
    "| Broadcasting | Supports broadcasting | No broadcasting |\n",
    "| Element-wise operations | Built-in support | Requires explicit loops or list comprehensions |\n",
    "| Memory usage | Lower for large datasets | Higher for large datasets |\n",
    "| Flexibility | Less flexible (optimized for numerical operations) | More flexible (can store any Python object) |\n",
    "| Built-in functions | Many scientific computing functions | Basic list operations |\n",
    "| Performance with large datasets | Excellent | Poor |\n",
    "| Integration with C/C++ | Easy integration | Requires more work |"
   ]
  },
  {
   "cell_type": "code",
   "execution_count": 2,
   "metadata": {
    "colab": {
     "base_uri": "https://localhost:8080/"
    },
    "executionInfo": {
     "elapsed": 436,
     "status": "ok",
     "timestamp": 1725958517104,
     "user": {
      "displayName": "Rajesh Singh",
      "userId": "16082860657877942970"
     },
     "user_tz": -330
    },
    "id": "E6fFO9j--BN0",
    "outputId": "d402f266-83a1-4092-b64d-c23d3b2cbb78"
   },
   "outputs": [
    {
     "name": "stdout",
     "output_type": "stream",
     "text": [
      "NumPy Functions Demonstration\n",
      "=============================\n",
      "\n",
      "1. Array Creation\n",
      "-----------------\n",
      "np.array(): [1 2 3 4 5]\n",
      "np.zeros(): [[0. 0. 0.]\n",
      " [0. 0. 0.]]\n",
      "np.ones(): [[1. 1.]\n",
      " [1. 1.]]\n",
      "np.full(): [[7 7]\n",
      " [7 7]]\n",
      "np.empty(): [[3.5e-323 3.5e-323]\n",
      " [3.5e-323 3.5e-323]]\n",
      "np.arange(): [0 2 4 6 8]\n",
      "np.linspace(): [0.   0.25 0.5  0.75 1.  ]\n",
      "\n",
      "2. Array Manipulation\n",
      "---------------------\n",
      "np.reshape(): [[1]\n",
      " [2]\n",
      " [3]\n",
      " [4]\n",
      " [5]]\n",
      "np.resize(): [[1 2 3]\n",
      " [4 5 1]]\n",
      "np.transpose(): [[1 4]\n",
      " [2 5]\n",
      " [3 1]]\n",
      "np.flip(): [5 4 3 2 1]\n",
      "np.roll(): [4 5 1 2 3]\n",
      "np.concatenate(): [1 2 3 4 5 1 2 3 4 5]\n",
      "\n",
      "3. Indexing and Selection\n",
      "-------------------------\n",
      "np.where(): [10 20  3  4  5]\n",
      "np.take(): [1 3 5]\n",
      "np.put(): [10  2 20  4 30]\n",
      "\n",
      "4. Mathematical Operations\n",
      "--------------------------\n",
      "np.add(): [3 4 5 6 7]\n",
      "np.subtract(): [-1  0  1  2  3]\n",
      "np.multiply(): [ 2  4  6  8 10]\n",
      "np.divide(): [0.5 1.  1.5 2.  2.5]\n",
      "np.power(): [ 1  4  9 16 25]\n",
      "\n",
      "5. Statistical Functions\n",
      "------------------------\n",
      "np.mean(): 3.0\n",
      "np.median(): 3.0\n",
      "np.std(): 1.4142135623730951\n",
      "np.var(): 2.0\n",
      "\n",
      "6. Linear Algebra\n",
      "-----------------\n",
      "np.dot(): [[19 22]\n",
      " [43 50]]\n",
      "np.linalg.inv(): [[-2.   1. ]\n",
      " [ 1.5 -0.5]]\n",
      "np.linalg.det(): -2.0000000000000004\n",
      "np.linalg.solve(): [0.  0.5]\n",
      "np.linalg.svd(): \n",
      "u = [[-0.40455358 -0.9145143 ]\n",
      " [-0.9145143   0.40455358]] , s = [5.4649857  0.36596619] , vh = [[-0.57604844 -0.81741556]\n",
      " [ 0.81741556 -0.57604844]]\n",
      "\n",
      "7. Random Number Generation\n",
      "----------------------------\n",
      "np.random.rand(): [[0.67110948 0.8416841  0.0804823 ]\n",
      " [0.87159075 0.06784119 0.19933495]\n",
      " [0.96325825 0.36640247 0.46178265]]\n",
      "np.random.randn(): [[-0.11005692 -1.27363891 -1.13651293]\n",
      " [-1.61020273 -0.26040293  0.14186128]\n",
      " [-0.34410728 -0.74666917 -0.06665695]]\n",
      "np.random.randint(): [[4 1 5]\n",
      " [2 6 4]\n",
      " [6 5 3]]\n",
      "\n",
      "8. Other Functions\n",
      "------------------\n",
      "np.all(): True\n",
      "np.any(): True\n",
      "np.sum(): 15\n",
      "\n",
      "9. File I/O\n",
      "-----------\n",
      "np.save(): Array saved to 'arr.npy'\n",
      "np.load(): Loaded array: [1 2 3 4 5]\n",
      "Removed 'arr.npy'\n"
     ]
    }
   ],
   "source": [
    "import numpy as np\n",
    "\n",
    "print(\"NumPy Functions Demonstration\")\n",
    "print(\"=============================\")\n",
    "\n",
    "# Array Creation\n",
    "print(\"\\n1. Array Creation\")\n",
    "print(\"-----------------\")\n",
    "arr = np.array([1, 2, 3, 4, 5])\n",
    "print(\"np.array():\", arr)\n",
    "\n",
    "zeros = np.zeros((2, 3))\n",
    "print(\"np.zeros():\", zeros)\n",
    "\n",
    "ones = np.ones((2, 2))\n",
    "print(\"np.ones():\", ones)\n",
    "\n",
    "full = np.full((2, 2), 7)\n",
    "print(\"np.full():\", full)\n",
    "\n",
    "empty = np.empty((2, 2))\n",
    "print(\"np.empty():\", empty)\n",
    "\n",
    "arange = np.arange(0, 10, 2)\n",
    "print(\"np.arange():\", arange)\n",
    "\n",
    "linspace = np.linspace(0, 1, 5)\n",
    "print(\"np.linspace():\", linspace)\n",
    "\n",
    "# Array Manipulation\n",
    "print(\"\\n2. Array Manipulation\")\n",
    "print(\"---------------------\")\n",
    "reshaped = np.reshape(arr, (5, 1))\n",
    "print(\"np.reshape():\", reshaped)\n",
    "\n",
    "resized = np.resize(arr, (2, 3))\n",
    "print(\"np.resize():\", resized)\n",
    "\n",
    "transposed = np.transpose(resized)\n",
    "print(\"np.transpose():\", transposed)\n",
    "\n",
    "flipped = np.flip(arr)\n",
    "print(\"np.flip():\", flipped)\n",
    "\n",
    "rolled = np.roll(arr, 2)\n",
    "print(\"np.roll():\", rolled)\n",
    "\n",
    "concatenated = np.concatenate((arr, arr))\n",
    "print(\"np.concatenate():\", concatenated)\n",
    "\n",
    "# Indexing and Selection\n",
    "print(\"\\n3. Indexing and Selection\")\n",
    "print(\"-------------------------\")\n",
    "condition = arr > 2\n",
    "where_result = np.where(condition, arr, arr * 10)\n",
    "print(\"np.where():\", where_result)\n",
    "\n",
    "take_result = np.take(arr, [0, 2, 4])\n",
    "print(\"np.take():\", take_result)\n",
    "\n",
    "arr_copy = arr.copy()\n",
    "np.put(arr_copy, [0, 2, 4], [10, 20, 30])\n",
    "print(\"np.put():\", arr_copy)\n",
    "\n",
    "# Mathematical Operations\n",
    "print(\"\\n4. Mathematical Operations\")\n",
    "print(\"--------------------------\")\n",
    "add_result = np.add(arr, 2)\n",
    "print(\"np.add():\", add_result)\n",
    "\n",
    "subtract_result = np.subtract(arr, 2)\n",
    "print(\"np.subtract():\", subtract_result)\n",
    "\n",
    "multiply_result = np.multiply(arr, 2)\n",
    "print(\"np.multiply():\", multiply_result)\n",
    "\n",
    "divide_result = np.divide(arr, 2)\n",
    "print(\"np.divide():\", divide_result)\n",
    "\n",
    "power_result = np.power(arr, 2)\n",
    "print(\"np.power():\", power_result)\n",
    "\n",
    "# Statistical Functions\n",
    "print(\"\\n5. Statistical Functions\")\n",
    "print(\"------------------------\")\n",
    "mean_result = np.mean(arr)\n",
    "print(\"np.mean():\", mean_result)\n",
    "\n",
    "median_result = np.median(arr)\n",
    "print(\"np.median():\", median_result)\n",
    "\n",
    "std_result = np.std(arr)\n",
    "print(\"np.std():\", std_result)\n",
    "\n",
    "var_result = np.var(arr)\n",
    "print(\"np.var():\", var_result)\n",
    "\n",
    "# Linear Algebra\n",
    "print(\"\\n6. Linear Algebra\")\n",
    "print(\"-----------------\")\n",
    "a = np.array([[1, 2], [3, 4]])\n",
    "b = np.array([[5, 6], [7, 8]])\n",
    "\n",
    "dot_product = np.dot(a, b)\n",
    "print(\"np.dot():\", dot_product)\n",
    "\n",
    "inv_result = np.linalg.inv(a)\n",
    "print(\"np.linalg.inv():\", inv_result)\n",
    "\n",
    "det_result = np.linalg.det(a)\n",
    "print(\"np.linalg.det():\", det_result)\n",
    "\n",
    "solve_result = np.linalg.solve(a, np.array([1, 2]))\n",
    "print(\"np.linalg.solve():\", solve_result)\n",
    "\n",
    "u, s, vh = np.linalg.svd(a)\n",
    "print(\"np.linalg.svd(): \\nu =\", u, \", s =\", s, \", vh =\", vh)\n",
    "\n",
    "# Random Number Generation\n",
    "print(\"\\n7. Random Number Generation\")\n",
    "print(\"----------------------------\")\n",
    "rand_result = np.random.rand(3, 3)\n",
    "print(\"np.random.rand():\", rand_result)\n",
    "\n",
    "randn_result = np.random.randn(3, 3)\n",
    "print(\"np.random.randn():\", randn_result)\n",
    "\n",
    "randint_result = np.random.randint(1, 10, size=(3, 3))\n",
    "print(\"np.random.randint():\", randint_result)\n",
    "\n",
    "# Other Functions\n",
    "print(\"\\n8. Other Functions\")\n",
    "print(\"------------------\")\n",
    "all_result = np.all(arr > 0)\n",
    "print(\"np.all():\", all_result)\n",
    "\n",
    "any_result = np.any(arr > 3)\n",
    "print(\"np.any():\", any_result)\n",
    "\n",
    "sum_result = np.sum(arr)\n",
    "print(\"np.sum():\", sum_result)\n",
    "\n",
    "# File I/O\n",
    "print(\"\\n9. File I/O\")\n",
    "print(\"-----------\")\n",
    "np.save('arr.npy', arr)\n",
    "print(\"np.save(): Array saved to 'arr.npy'\")\n",
    "\n",
    "loaded_arr = np.load('arr.npy')\n",
    "print(\"np.load(): Loaded array:\", loaded_arr)\n",
    "\n",
    "# Clean up\n",
    "import os\n",
    "os.remove('arr.npy')\n",
    "print(\"Removed 'arr.npy'\")"
   ]
  },
  {
   "cell_type": "markdown",
   "metadata": {
    "id": "QPQ3zNid_0m1"
   },
   "source": [
    "### Assignment\n",
    "\n",
    "#### Assignment 1: \n",
    "Create a 1D NumPy array with 20 elements, ranging from 0 to 19, using `np.arange()`.\n",
    "\n",
    "#### Assignment 2: \n",
    "Reshape the 1D array into a 4 * 5 2D array. Flatten the 4 * 5 2D array.\n",
    "\n",
    "**Note:** Don't use Mobile.\n",
    "\n",
    "#### Assignment 3: \n",
    "Create a 3 * 3 matrix of random integers between 1 and 10 using `np.random.randint()`. Transpose the 3 * 3 random integer matrix."
   ]
  },
  {
   "cell_type": "code",
   "execution_count": null,
   "metadata": {
    "colab": {
     "base_uri": "https://localhost:8080/"
    },
    "executionInfo": {
     "elapsed": 469,
     "status": "ok",
     "timestamp": 1725960087930,
     "user": {
      "displayName": "Rajesh Singh",
      "userId": "16082860657877942970"
     },
     "user_tz": -330
    },
    "id": "CA_0hyhEN90m",
    "outputId": "b0697f9b-0074-45c6-d482-002d6d0529d2"
   },
   "outputs": [
    {
     "name": "stdout",
     "output_type": "stream",
     "text": [
      "[ 0  1  2  3  4  5  6  7  8  9 10 11 12 13 14 15 16 17 18 19]\n",
      "[[ 0  1  2  3  4]\n",
      " [ 5  6  7  8  9]\n",
      " [10 11 12 13 14]\n",
      " [15 16 17 18 19]]\n",
      "[[1 5 3]\n",
      " [1 7 5]\n",
      " [3 8 7]]\n",
      "[[1 1 3]\n",
      " [5 7 8]\n",
      " [3 5 7]]\n"
     ]
    }
   ],
   "source": [
    "\n",
    "import numpy as np\n",
    "\n",
    "# Assignment 1\n",
    "arr1 = np.arange(0,20)\n",
    "print(arr1)\n",
    "\n",
    "# Assignment 2\n",
    "arr2 = np.reshape(arr1, (4,5))\n",
    "print(arr2)\n",
    "\n",
    "# Assignment 3\n",
    "arr3 = np.random.randint(1,10, (3,3))\n",
    "print(arr3)\n",
    "arr3 = arr3.transpose()\n",
    "print(arr3)"
   ]
  },
  {
   "cell_type": "markdown",
   "metadata": {
    "id": "nOyFcD9iRkUs"
   },
   "source": [
    "### Properties of Dataset\n",
    "\n",
    "```python\n",
    "import numpy as np\n",
    "\n",
    "arr = np.array([[1, 2, 3], [4, 5, 6]])\n",
    "\n",
    "print(\"Shape:\", arr.shape)  # Output: (2, 3)\n",
    "print(\"Size:\", arr.size)    # Output: 6\n",
    "print(\"Dtype:\", arr.dtype)  # Output: int64\n",
    "print(\"Itemsize:\", arr.itemsize)  # Output: 8 (assuming 64-bit integers)\n",
    "print(\"Ndim:\", arr.ndim)    # Output: 2\n",
    "print(\"Flags:\", arr.flags)\n",
    "```"
   ]
  },
  {
   "cell_type": "markdown",
   "metadata": {
    "id": "n9iQdSERSmGB"
   },
   "source": [
    "### Assignment: Understanding Array Dimensions and Shapes\n",
    "\n",
    "- Create a 1D, 2D, and 3D array using NumPy.\n",
    "\n",
    "- For each array, print the `ndim` and `shape` properties.\n",
    "\n",
    "- Write a function `describe_array(arr)` that takes a NumPy array and prints its `ndim`, `shape`, `size`, and `dtype`."
   ]
  },
  {
   "cell_type": "code",
   "execution_count": null,
   "metadata": {
    "colab": {
     "base_uri": "https://localhost:8080/"
    },
    "executionInfo": {
     "elapsed": 855,
     "status": "ok",
     "timestamp": 1725961360837,
     "user": {
      "displayName": "Rajesh Singh",
      "userId": "16082860657877942970"
     },
     "user_tz": -330
    },
    "id": "WWPufiEQROHZ",
    "outputId": "b678f3d6-d472-40ec-c978-269a1e31ae93"
   },
   "outputs": [
    {
     "name": "stdout",
     "output_type": "stream",
     "text": [
      "Shape: (3,)\n",
      "Size: 3\n",
      "Dtype: int64\n",
      "Itemsize: 8\n",
      "Ndim: 1\n",
      "Flags:   C_CONTIGUOUS : True\n",
      "  F_CONTIGUOUS : True\n",
      "  OWNDATA : True\n",
      "  WRITEABLE : True\n",
      "  ALIGNED : True\n",
      "  WRITEBACKIFCOPY : False\n",
      "\n",
      "\n",
      "Shape: (2, 3)\n",
      "Size: 6\n",
      "Dtype: int64\n",
      "Itemsize: 8\n",
      "Ndim: 2\n",
      "Flags:   C_CONTIGUOUS : True\n",
      "  F_CONTIGUOUS : False\n",
      "  OWNDATA : True\n",
      "  WRITEABLE : True\n",
      "  ALIGNED : True\n",
      "  WRITEBACKIFCOPY : False\n",
      "\n",
      "\n",
      "Shape: (2, 2, 3)\n",
      "Size: 12\n",
      "Dtype: int64\n",
      "Itemsize: 8\n",
      "Ndim: 3\n",
      "Flags:   C_CONTIGUOUS : True\n",
      "  F_CONTIGUOUS : False\n",
      "  OWNDATA : True\n",
      "  WRITEABLE : True\n",
      "  ALIGNED : True\n",
      "  WRITEBACKIFCOPY : False\n",
      "\n",
      "\n"
     ]
    }
   ],
   "source": [
    "def describe_arr(arr):\n",
    "    print(\"Shape:\", arr.shape)\n",
    "    print(\"Size:\", arr.size)\n",
    "    print(\"Dtype:\", arr.dtype)\n",
    "    print(\"Itemsize:\", arr.itemsize)\n",
    "    print(\"Ndim:\", arr.ndim)\n",
    "    print(\"Flags:\", arr.flags)\n",
    "    print()\n",
    "\n",
    "arr1 = np.array([1, 2, 3] )\n",
    "describe_arr(arr1)\n",
    "arr2 = np.array([[1, 2, 3], [4, 5, 6]])\n",
    "describe_arr(arr2)\n",
    "arr3 = np.array([[[1, 2, 3], [4, 5, 6]],[[7, 8, 9],[10,11,12]]])\n",
    "describe_arr(arr3)"
   ]
  },
  {
   "cell_type": "markdown",
   "metadata": {
    "id": "ldROoxpmVU-0"
   },
   "source": [
    "### Assignment: Exploring Data Types and Memory Consumption\n",
    "\n",
    "- Create an array with different data types: integers, floats, and booleans.\n",
    "\n",
    "- Compare their `itemsize` and `nbytes` to understand the memory requirements for each data type.\n",
    "\n",
    "- Change the `dtype` of an existing array from `int` to `float` and verify the changes in `itemsize` and `nbytes`."
   ]
  },
  {
   "cell_type": "code",
   "execution_count": null,
   "metadata": {
    "colab": {
     "base_uri": "https://localhost:8080/"
    },
    "executionInfo": {
     "elapsed": 1123,
     "status": "ok",
     "timestamp": 1725964199641,
     "user": {
      "displayName": "Rajesh Singh",
      "userId": "16082860657877942970"
     },
     "user_tz": -330
    },
    "id": "DnEuYqSAVocM",
    "outputId": "ace0b111-9d8c-4cdc-fb6e-93d5df703d0d"
   },
   "outputs": [
    {
     "name": "stdout",
     "output_type": "stream",
     "text": [
      "[1 2 3]\n",
      "Dtype: int64\n",
      "Itemsize: 8\n",
      "No. Bytes: 24\n",
      "\n",
      "[1. 2. 3.]\n",
      "Dtype: float64\n",
      "Itemsize: 8\n",
      "No. Bytes: 24\n",
      "\n",
      "[ True  True  True]\n",
      "Dtype: bool\n",
      "Itemsize: 1\n",
      "No. Bytes: 3\n",
      "\n"
     ]
    }
   ],
   "source": [
    "def describe_arr_type_memory(arr):\n",
    "    print(arr)\n",
    "    print(\"Dtype:\", arr.dtype)\n",
    "    print(\"Itemsize:\", arr.itemsize)\n",
    "    print(\"No. Bytes:\", arr.nbytes)\n",
    "    print()\n",
    "\n",
    "arr1 = np.array([1, 2, 3], int)\n",
    "describe_arr_type_memory(arr1)\n",
    "arr2 = arr1.astype(float)\n",
    "describe_arr_type_memory(arr2)\n",
    "arr3 = arr1.astype(bool)\n",
    "describe_arr_type_memory(arr3)"
   ]
  },
  {
   "cell_type": "markdown",
   "metadata": {},
   "source": [
    "### Indexing Operations "
   ]
  },
  {
   "cell_type": "code",
   "execution_count": null,
   "metadata": {
    "colab": {
     "base_uri": "https://localhost:8080/"
    },
    "executionInfo": {
     "elapsed": 12,
     "status": "ok",
     "timestamp": 1725964199643,
     "user": {
      "displayName": "Rajesh Singh",
      "userId": "16082860657877942970"
     },
     "user_tz": -330
    },
    "id": "T-c4Tz0yX15K",
    "outputId": "4894c2e5-8408-48af-fe9f-1b93a83cc484"
   },
   "outputs": [
    {
     "name": "stdout",
     "output_type": "stream",
     "text": [
      "NumPy Array Accessing and Slicing Examples\n",
      "==========================================\n",
      "\n",
      "1. 1D Array\n",
      "-----------\n",
      "Original 1D array: [0 1 2 3 4 5 6 7 8 9]\n",
      "arr_1d[0]: 0\n",
      "arr_1d[-1]: 9\n",
      "arr_1d[2:5]: [2 3 4]\n",
      "arr_1d[:5]: [0 1 2 3 4]\n",
      "arr_1d[5:]: [5 6 7 8 9]\n",
      "arr_1d[::2]: [0 2 4 6 8]\n",
      "arr_1d[::-1]: [9 8 7 6 5 4 3 2 1 0]\n",
      "\n",
      "2. 2D Array\n",
      "-----------\n",
      "Original 2D array:\n",
      "[[ 1  2  3  4]\n",
      " [ 5  6  7  8]\n",
      " [ 9 10 11 12]]\n",
      "arr_2d[0, 0]: 1\n",
      "arr_2d[2, 3]: 12\n",
      "arr_2d[1]: [5 6 7 8]\n",
      "arr_2d[0:2]:\n",
      "[[1 2 3 4]\n",
      " [5 6 7 8]]\n",
      "arr_2d[:, 1]: [ 2  6 10]\n",
      "arr_2d[:, 1:3]:\n",
      "[[ 2  3]\n",
      " [ 6  7]\n",
      " [10 11]]\n",
      "arr_2d[0:2, 1:3]:\n",
      "[[2 3]\n",
      " [6 7]]\n",
      "arr_2d[::2, ::2]:\n",
      "[[ 1  3]\n",
      " [ 9 11]]\n",
      "\n",
      "3. 3D Array\n",
      "-----------\n",
      "Original 3D array:\n",
      "[[[ 1  2]\n",
      "  [ 3  4]]\n",
      "\n",
      " [[ 5  6]\n",
      "  [ 7  8]]\n",
      "\n",
      " [[ 9 10]\n",
      "  [11 12]]]\n",
      "arr_3d[0, 0, 0]: 1\n",
      "arr_3d[2, 1, 1]: 12\n",
      "arr_3d[1]:\n",
      "[[5 6]\n",
      " [7 8]]\n",
      "arr_3d[:, 1]:\n",
      "[[ 3  4]\n",
      " [ 7  8]\n",
      " [11 12]]\n",
      "arr_3d[:, :, 1]:\n",
      "[[ 2  4]\n",
      " [ 6  8]\n",
      " [10 12]]\n",
      "arr_3d[0:2, :, 1]:\n",
      "[[2 4]\n",
      " [6 8]]\n",
      "arr_3d[:, 1:, :1]:\n",
      "[[[ 3]]\n",
      "\n",
      " [[ 7]]\n",
      "\n",
      " [[11]]]\n",
      "\n",
      "4. Boolean Indexing\n",
      "-------------------\n",
      "Boolean index (arr_1d > 5): [False False False False False False  True  True  True  True]\n",
      "arr_1d[arr_1d > 5]: [6 7 8 9]\n",
      "\n",
      "5. Fancy Indexing\n",
      "------------------\n",
      "Fancy index: [ 0  2 -1]\n",
      "arr_1d[fancy_idx]: [0 2 9]\n",
      "arr_2d[[0, 2], [1, 3]]: [ 2 12]\n"
     ]
    }
   ],
   "source": [
    "import numpy as np\n",
    "\n",
    "print(\"NumPy Array Accessing and Slicing Examples\")\n",
    "print(\"==========================================\")\n",
    "\n",
    "# 1D Array\n",
    "print(\"\\n1. 1D Array\")\n",
    "print(\"-----------\")\n",
    "arr_1d = np.array([0, 1, 2, 3, 4, 5, 6, 7, 8, 9])\n",
    "print(\"Original 1D array:\", arr_1d)\n",
    "\n",
    "# Basic indexing\n",
    "print(\"arr_1d[0]:\", arr_1d[0])  # Output: 0\n",
    "print(\"arr_1d[-1]:\", arr_1d[-1])  # Output: 9\n",
    "\n",
    "# Slicing\n",
    "print(\"arr_1d[2:5]:\", arr_1d[2:5])  # Output: [2 3 4]\n",
    "print(\"arr_1d[:5]:\", arr_1d[:5])  # Output: [0 1 2 3 4]\n",
    "print(\"arr_1d[5:]:\", arr_1d[5:])  # Output: [5 6 7 8 9]\n",
    "print(\"arr_1d[::2]:\", arr_1d[::2])  # Output: [0 2 4 6 8]\n",
    "print(\"arr_1d[::-1]:\", arr_1d[::-1])  # Output: [9 8 7 6 5 4 3 2 1 0]\n",
    "\n",
    "# 2D Array\n",
    "print(\"\\n2. 2D Array\")\n",
    "print(\"-----------\")\n",
    "arr_2d = np.array([[1, 2, 3, 4],\n",
    "                   [5, 6, 7, 8],\n",
    "                   [9, 10, 11, 12]])\n",
    "print(\"Original 2D array:\")\n",
    "print(arr_2d)\n",
    "\n",
    "# Basic indexing\n",
    "print(\"arr_2d[0, 0]:\", arr_2d[0, 0])  # Output: 1\n",
    "print(\"arr_2d[2, 3]:\", arr_2d[2, 3])  # Output: 12\n",
    "\n",
    "# Slicing rows\n",
    "print(\"arr_2d[1]:\", arr_2d[1])  # Output: [5 6 7 8]\n",
    "print(\"arr_2d[0:2]:\")\n",
    "print(arr_2d[0:2])  # Output: [[1 2 3 4]\n",
    "                    #          [5 6 7 8]]\n",
    "\n",
    "# Slicing columns\n",
    "print(\"arr_2d[:, 1]:\", arr_2d[:, 1])  # Output: [ 2  6 10]\n",
    "print(\"arr_2d[:, 1:3]:\")\n",
    "print(arr_2d[:, 1:3])  # Output: [[ 2  3]\n",
    "                       #          [ 6  7]\n",
    "                       #          [10 11]]\n",
    "\n",
    "# Mixed slicing\n",
    "print(\"arr_2d[0:2, 1:3]:\")\n",
    "print(arr_2d[0:2, 1:3])  # Output: [[2 3]\n",
    "                         #          [6 7]]\n",
    "\n",
    "# Stepped slicing\n",
    "print(\"arr_2d[::2, ::2]:\")\n",
    "print(arr_2d[::2, ::2])  # Output: [[ 1  3]\n",
    "                         #          [ 9 11]]\n",
    "\n",
    "# 3D Array\n",
    "print(\"\\n3. 3D Array\")\n",
    "print(\"-----------\")\n",
    "arr_3d = np.array([[[1, 2], [3, 4]],\n",
    "                   [[5, 6], [7, 8]],\n",
    "                   [[9, 10], [11, 12]]])\n",
    "print(\"Original 3D array:\")\n",
    "print(arr_3d)\n",
    "\n",
    "# Basic indexing\n",
    "print(\"arr_3d[0, 0, 0]:\", arr_3d[0, 0, 0])  # Output: 1\n",
    "print(\"arr_3d[2, 1, 1]:\", arr_3d[2, 1, 1])  # Output: 12\n",
    "\n",
    "# Slicing in 3D\n",
    "print(\"arr_3d[1]:\")\n",
    "print(arr_3d[1])  # Output: [[5 6]\n",
    "                  #          [7 8]]\n",
    "\n",
    "print(\"arr_3d[:, 1]:\")\n",
    "print(arr_3d[:, 1])  # Output: [[ 3  4]\n",
    "                     #          [ 7  8]\n",
    "                     #          [11 12]]\n",
    "\n",
    "print(\"arr_3d[:, :, 1]:\")\n",
    "print(arr_3d[:, :, 1])  # Output: [[ 2  4]\n",
    "                        #          [ 6  8]\n",
    "                        #          [10 12]]\n",
    "\n",
    "# Complex slicing in 3D\n",
    "print(\"arr_3d[0:2, :, 1]:\")\n",
    "print(arr_3d[0:2, :, 1])  # Output: [[2 4]\n",
    "                          #          [6 8]]\n",
    "\n",
    "print(\"arr_3d[:, 1:, :1]:\")\n",
    "print(arr_3d[:, 1:, :1])  # Output: [[[3]]\n",
    "                          #          [[7]]\n",
    "                          #          [[11]]]\n",
    "\n",
    "# Boolean indexing\n",
    "print(\"\\n4. Boolean Indexing\")\n",
    "print(\"-------------------\")\n",
    "bool_idx = arr_1d > 5\n",
    "print(\"Boolean index (arr_1d > 5):\", bool_idx)\n",
    "# Output: [False False False False False False  True  True  True  True]\n",
    "\n",
    "print(\"arr_1d[arr_1d > 5]:\", arr_1d[arr_1d > 5])  # Output: [6 7 8 9]\n",
    "\n",
    "# Fancy indexing\n",
    "print(\"\\n5. Fancy Indexing\")\n",
    "print(\"------------------\")\n",
    "fancy_idx = np.array([0, 2, -1])\n",
    "print(\"Fancy index:\", fancy_idx)\n",
    "\n",
    "print(\"arr_1d[fancy_idx]:\", arr_1d[fancy_idx])  # Output: [0 2 9]\n",
    "\n",
    "print(\"arr_2d[[0, 2], [1, 3]]:\", arr_2d[[0, 2], [1, 3]])  # Output: [ 2 12]"
   ]
  },
  {
   "cell_type": "markdown",
   "metadata": {
    "id": "iPxO_sKvehgK"
   },
   "source": [
    "### Assignment: Manipulating Subarrays\n",
    "\n",
    "- Create a 2D array of shape (5, 5) filled with random integers between 50 and 100.\n",
    "\n",
    "- Replace the central 3x3 subarray with zeroes.\n",
    "\n",
    "- Print the modified array and explain the slicing used to access and modify the subarray.\n"
   ]
  },
  {
   "cell_type": "code",
   "execution_count": null,
   "metadata": {
    "colab": {
     "base_uri": "https://localhost:8080/"
    },
    "executionInfo": {
     "elapsed": 509,
     "status": "ok",
     "timestamp": 1725964800920,
     "user": {
      "displayName": "Rajesh Singh",
      "userId": "16082860657877942970"
     },
     "user_tz": -330
    },
    "id": "ZJydsn3re9Wv",
    "outputId": "93b9c228-3fd8-4150-d6c3-94db0c11d21f"
   },
   "outputs": [
    {
     "name": "stdout",
     "output_type": "stream",
     "text": [
      "[[61 70 54 89 83]\n",
      " [83  0  0  0 65]\n",
      " [97  0  0  0 71]\n",
      " [77  0  0  0 58]\n",
      " [89 77 67 89 80]]\n"
     ]
    }
   ],
   "source": [
    "import numpy as np\n",
    "\n",
    "arr3 = np.random.randint(50,100, (5,5))\n",
    "\n",
    "\n",
    "arr3[1:-1:, 1:-1:]= np.zeros((3,3))\n",
    "# arr3[1:-1:, 1:-1:]=0\n",
    "\n",
    "print(arr3)"
   ]
  },
  {
   "cell_type": "markdown",
   "metadata": {
    "id": "ygpOmsbBh9D7"
   },
   "source": [
    "### Assignment 7: Transposition and Mean Calculation\n",
    "\n",
    "- Create a 2D array representing a dataset with 5 rows (samples) and 3 columns (features). Each element should be a random integer between 10 and 100.\n",
    "\n",
    "- Use transposition to switch rows with columns, converting the array into 3 rows and 5 columns.\n",
    "\n",
    "- Compute and compare the mean of the original and transposed datasets along both axes."
   ]
  },
  {
   "cell_type": "code",
   "execution_count": null,
   "metadata": {
    "colab": {
     "base_uri": "https://localhost:8080/"
    },
    "executionInfo": {
     "elapsed": 3564,
     "status": "ok",
     "timestamp": 1725965268237,
     "user": {
      "displayName": "Rajesh Singh",
      "userId": "16082860657877942970"
     },
     "user_tz": -330
    },
    "id": "1F9p00PhiCUu",
    "outputId": "f4d9c23b-25bf-4dc2-f785-8eb265fc6930"
   },
   "outputs": [
    {
     "name": "stdout",
     "output_type": "stream",
     "text": [
      "Original dataset:\n",
      " [[38 60 77]\n",
      " [70 94 76]\n",
      " [27 99 66]\n",
      " [37 86 47]\n",
      " [90 36 56]]\n",
      "Transposed dataset:\n",
      " [[38 70 27 37 90]\n",
      " [60 94 99 86 36]\n",
      " [77 76 66 47 56]]\n",
      "\n",
      "Means along axis 0 (columns) of the original dataset:\n",
      " [52.4 75.  64.4]\n",
      "Means along axis 0 (columns) of the transposed dataset:\n",
      " [58.33333333 80.         64.         56.66666667 60.66666667]\n",
      "\n",
      "Means along axis 1 (rows) of the original dataset:\n",
      " [58.33333333 80.         64.         56.66666667 60.66666667]\n",
      "Means along axis 1 (rows) of the transposed dataset:\n",
      " [52.4 75.  64.4]\n"
     ]
    }
   ],
   "source": [
    "import numpy as np\n",
    "\n",
    "dataset = np.random.randint(10, 101, (5, 3))\n",
    "\n",
    "print(\"Original dataset:\\n\", dataset)\n",
    "\n",
    "# transposed_dataset = np.transpose(dataset)\n",
    "transposed_dataset = dataset.T\n",
    "\n",
    "print(\"Transposed dataset:\\n\", transposed_dataset)\n",
    "\n",
    "original_means = dataset.mean(axis=0)\n",
    "transposed_means = transposed_dataset.mean(axis=0)\n",
    "\n",
    "print(\"\\nMeans along axis 0 (columns) of the original dataset:\\n\", original_means)\n",
    "print(\"Means along axis 0 (columns) of the transposed dataset:\\n\", transposed_means)\n",
    "\n",
    "original_means_rows = dataset.mean(axis=1)\n",
    "transposed_means_rows = transposed_dataset.mean(axis=1)\n",
    "\n",
    "print(\"\\nMeans along axis 1 (rows) of the original dataset:\\n\", original_means_rows)\n",
    "print(\"Means along axis 1 (rows) of the transposed dataset:\\n\", transposed_means_rows)"
   ]
  },
  {
   "cell_type": "markdown",
   "metadata": {
    "id": "FgqQUrcrjZFP"
   },
   "source": [
    "### Assignment 8: Handling Complex CSV Data\n",
    "\n",
    "- Create a CSV file named `data_complex.csv` with the following contents, using semicolons as delimiters and some lines as comments:\n",
    "\n",
    "```csv\n",
    "        #This is a comment line\n",
    "        1.0; 2.0; 3.0\n",
    "        #Another comment\n",
    "        4.0; 5.0; 6.0\n",
    "        7.0; 8.0; 9.0\n",
    "```\n",
    "\n",
    "- Use `np.genfromtxt()` to load the data, specifying the delimiter as a semicolon and ignoring lines that start with a `#`.\n",
    "\n",
    "- Print the loaded array and ensure the comments are ignored."
   ]
  },
  {
   "cell_type": "code",
   "execution_count": null,
   "metadata": {
    "colab": {
     "base_uri": "https://localhost:8080/"
    },
    "executionInfo": {
     "elapsed": 476,
     "status": "ok",
     "timestamp": 1725967265422,
     "user": {
      "displayName": "Rajesh Singh",
      "userId": "16082860657877942970"
     },
     "user_tz": -330
    },
    "id": "78n6CZCDnp47",
    "outputId": "c3172376-297d-4757-fbe9-46fbb0b2bf7f"
   },
   "outputs": [
    {
     "name": "stdout",
     "output_type": "stream",
     "text": [
      "CSV data written successfully.\n",
      "CSV data read successfully:\n",
      "[[1. 2. 3.]\n",
      " [4. 5. 6.]\n",
      " [7. 8. 9.]]\n"
     ]
    }
   ],
   "source": [
    "\n",
    "import csv\n",
    "import numpy as np\n",
    "\n",
    "csv_data = \"\"\"\n",
    "# This is a comment line\n",
    "1.0; 2.0; 3.0\n",
    "# Another comment\n",
    "4.0; 5.0; 6.0\n",
    "7.0; 8.0; 9.0\n",
    "\"\"\"\n",
    "\n",
    "try:\n",
    "    with open('data_complex.csv', 'w', newline='') as csvfile:\n",
    "        csvfile.write(csv_data)\n",
    "    print(\"CSV data written successfully.\")\n",
    "except Exception as e:\n",
    "    print(\"Error writing CSV data:\", e)\n",
    "\n",
    "# Read the CSV data into a NumPy array\n",
    "filename = 'data_complex.csv'\n",
    "\n",
    "try:\n",
    "    data = np.genfromtxt(filename, delimiter=';', comments='#')\n",
    "    print(\"CSV data read successfully:\")\n",
    "    print(data)\n",
    "except Exception as e:\n",
    "    print(\"Error reading CSV data:\", e)"
   ]
  },
  {
   "cell_type": "markdown",
   "metadata": {
    "id": "Ir3_28uwoJXQ"
   },
   "source": []
  },
  {
   "cell_type": "markdown",
   "metadata": {
    "id": "6q7b45fRqeIn"
   },
   "source": [
    "### Assignment 9: Square Root Calculation\n",
    "\n",
    "- **Description:** Create a NumPy array with values ranging from 1 to 16. Compute the square root of each element in the array.\n",
    "\n",
    "- **Square root calculation:** `np.sqrt(array)`\n",
    "\n",
    "- **CSV File Creation:** Save the original array and the computed square roots to a CSV named `square_root_results.csv`.\n",
    "\n",
    "- **To save contents to a file:**\n",
    "\n",
    "    `np.savetxt('filename', array, delimiter='')`\n",
    "\n",
    "- **Format the text file to save:**\n",
    "\n",
    "    `np.savetxt('filename', np.column_stack((OGarray, NEW_ARRAY)), delimiter=',', header='Original, Square Root', comments=\"\", fmt='%d, %.2f')`"
   ]
  },
  {
   "cell_type": "code",
   "execution_count": null,
   "metadata": {
    "colab": {
     "base_uri": "https://localhost:8080/"
    },
    "executionInfo": {
     "elapsed": 42,
     "status": "ok",
     "timestamp": 1725967785008,
     "user": {
      "displayName": "Rajesh Singh",
      "userId": "16082860657877942970"
     },
     "user_tz": -330
    },
    "id": "CwgkIx99qxu8",
    "outputId": "cb6ddd52-7057-44ae-fae7-f5670d0983d9"
   },
   "outputs": [
    {
     "name": "stdout",
     "output_type": "stream",
     "text": [
      "[[ 8 10  4]\n",
      " [15  7  6]\n",
      " [12 14  9]]\n",
      "[[2.82842712 3.16227766 2.        ]\n",
      " [3.87298335 2.64575131 2.44948974]\n",
      " [3.46410162 3.74165739 3.        ]]\n",
      "8.000000000000000000e+00;1.000000000000000000e+01;4.000000000000000000e+00\n",
      "1.500000000000000000e+01;7.000000000000000000e+00;6.000000000000000000e+00\n",
      "1.200000000000000000e+01;1.400000000000000000e+01;9.000000000000000000e+00\n",
      "\n"
     ]
    }
   ],
   "source": [
    "import numpy as np\n",
    "import csv\n",
    "\n",
    "filename = 'square_root_results.csv'\n",
    "arr = np.random.randint(1,16,(3,3))\n",
    "sqrt_arr = np.sqrt(arr)\n",
    "print(arr, sqrt_arr,sep='\\n')\n",
    "\n",
    "np.savetxt(filename, arr, delimiter=';')\n",
    "\n",
    "try:\n",
    "    with open(filename , 'r') as file:\n",
    "        print(file.read())\n",
    "except Exception as e:\n",
    "    print(\"Error writing CSV data:\", e)"
   ]
  },
  {
   "cell_type": "markdown",
   "metadata": {
    "id": "rjZ7LcsVt1t_"
   },
   "source": [
    "### Assignment 10: Matrix Multiplication and Transposition\n",
    "\n",
    "- Create two matrices of size 4x2 and 2x3.\n",
    "\n",
    "- Multiply these matrices using `np.matmul()`.\n",
    "\n",
    "- Transpose the result using `.T`.\n",
    "\n",
    "- Print the matrices, the result of multiplication, and the transposed result."
   ]
  },
  {
   "cell_type": "code",
   "execution_count": null,
   "metadata": {
    "colab": {
     "base_uri": "https://localhost:8080/"
    },
    "executionInfo": {
     "elapsed": 536,
     "status": "ok",
     "timestamp": 1725968350390,
     "user": {
      "displayName": "Rajesh Singh",
      "userId": "16082860657877942970"
     },
     "user_tz": -330
    },
    "id": "b97ZIUxSt7hA",
    "outputId": "66f7d780-c67a-4431-8f45-aaa8f3340149"
   },
   "outputs": [
    {
     "name": "stdout",
     "output_type": "stream",
     "text": [
      "[[36 25 53]\n",
      " [44 39 67]\n",
      " [64 55 97]\n",
      " [46 52 73]]\n",
      "[[36 44 64 46]\n",
      " [25 39 55 52]\n",
      " [53 67 97 73]]\n"
     ]
    }
   ],
   "source": [
    "\n",
    "import numpy as np\n",
    "\n",
    "arr1 = np.random.randint(1,10,(4,2))\n",
    "arr2 = np.random.randint(1,10,(2,3))\n",
    "\n",
    "arr3 = np.matmul(arr1,arr2)\n",
    "print(arr3)\n",
    "\n",
    "arr3 = arr3.T\n",
    "print(arr3)"
   ]
  },
  {
   "cell_type": "markdown",
   "metadata": {
    "id": "ySzM6JZLoQ7C"
   },
   "source": []
  },
  {
   "cell_type": "markdown",
   "metadata": {
    "id": "tBRvO8G4oQ9A"
   },
   "source": [
    "### Home Assignment 1: Compute Eigenvalues and Eigenvectors of a Given Matrix and Save Results to a CSV File\n",
    "\n",
    "- Create a square matrix (e.g., 3x3) with arbitrary values.\n",
    "\n",
    "- Compute the eigenvalues and eigenvectors of the matrix using `np.linalg.eig()`.\n",
    "\n",
    "- Save the eigenvalues and eigenvectors to a CSV file. Use formatting."
   ]
  },
  {
   "cell_type": "code",
   "execution_count": 1,
   "metadata": {
    "colab": {
     "base_uri": "https://localhost:8080/"
    },
    "executionInfo": {
     "elapsed": 757,
     "status": "ok",
     "timestamp": 1726193855440,
     "user": {
      "displayName": "Rajesh Singh",
      "userId": "16082860657877942970"
     },
     "user_tz": -330
    },
    "id": "dkn0_NNHoXwN",
    "outputId": "ce861278-4903-4b64-cead-0179f3dd94ee"
   },
   "outputs": [
    {
     "name": "stdout",
     "output_type": "stream",
     "text": [
      "# This CSV contains eigenvalues and eigenvectors\n",
      "Eigenvalues, Eigenvector1, Eigenvector2, Eigenvector3\n",
      " (16.405386+0.000000j), (0.570371+0.000000j), (0.079520-0.469735j), (0.079520+0.469735j)\n",
      " (-1.202693+2.239380j), (0.681490+0.000000j), (-0.653602+0.000000j), (-0.653602-0.000000j)\n",
      " (-1.202693-2.239380j), (0.458528+0.000000j), (0.488276+0.327745j), (0.488276-0.327745j)\n",
      "\n"
     ]
    }
   ],
   "source": [
    "import numpy as np\n",
    "\n",
    "arr = np.random.randint(1, 10, (3, 3))\n",
    "\n",
    "eigenvalues, eigenvectors = np.linalg.eig(arr)\n",
    "\n",
    "combined = np.column_stack((eigenvalues, eigenvectors))\n",
    "\n",
    "filename = 'eigenvalue_eigenvector.csv'\n",
    "np.savetxt(filename, combined, delimiter=',',\n",
    "           header='Eigenvalues, Eigenvector1, Eigenvector2, Eigenvector3',\n",
    "           comments='# This CSV contains eigenvalues and eigenvectors\\n',\n",
    "           fmt='%f')\n",
    "\n",
    "try:\n",
    "    with open(filename , 'r') as file:\n",
    "        print(file.read())\n",
    "except Exception as e:\n",
    "    print(\"Error writing CSV data:\", e)"
   ]
  }
 ],
 "metadata": {
  "colab": {
   "authorship_tag": "ABX9TyM9oVcjdrQNtrVSvB1ZR2Uo",
   "provenance": []
  },
  "kernelspec": {
   "display_name": "venv",
   "language": "python",
   "name": "python3"
  },
  "language_info": {
   "codemirror_mode": {
    "name": "ipython",
    "version": 3
   },
   "file_extension": ".py",
   "mimetype": "text/x-python",
   "name": "python",
   "nbconvert_exporter": "python",
   "pygments_lexer": "ipython3",
   "version": "3.12.6"
  }
 },
 "nbformat": 4,
 "nbformat_minor": 4
}
