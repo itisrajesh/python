{
 "cells": [
  {
   "cell_type": "markdown",
   "metadata": {
    "id": "FY0jxt3w_PwC"
   },
   "source": [
    "# Functions #"
   ]
  },
  {
   "cell_type": "markdown",
   "metadata": {
    "id": "HKxkr-9wDwKo"
   },
   "source": [
    "Assignment 1:"
   ]
  },
  {
   "cell_type": "code",
   "execution_count": 1,
   "metadata": {
    "colab": {
     "base_uri": "https://localhost:8080/"
    },
    "executionInfo": {
     "elapsed": 554,
     "status": "ok",
     "timestamp": 1725603590627,
     "user": {
      "displayName": "Rajesh Singh",
      "userId": "16082860657877942970"
     },
     "user_tz": -330
    },
    "id": "eSwHYkS7twrY",
    "outputId": "18942127-96a8-40d4-9b72-405ab3b39b7a"
   },
   "outputs": [
    {
     "name": "stdout",
     "output_type": "stream",
     "text": [
      "18\n"
     ]
    }
   ],
   "source": [
    "from functools import reduce\n",
    "def calculate_sum(*args)->int:\n",
    "    return reduce(lambda acc, x : acc+x if x > 0 else acc ,args)\n",
    "\n",
    "print(calculate_sum(1,2,-3,4,5,6))"
   ]
  },
  {
   "cell_type": "markdown",
   "metadata": {},
   "source": [
    "### Assignment 2: Dynamic Report Generator\n",
    "\n",
    "**Objective:** Create a function that generates a report in a structured format, based on variable arguments and keyword arguments.\n",
    "\n",
    "**Tasks:**\n",
    "\n",
    "- Write a function `generate_report(title, *args, **kwargs)`:\n",
    "  - `title` is the report title.\n",
    "  - `*args` are the report sections.\n",
    "  - `**kwargs` contain additional metadata like author, date, etc.\n",
    "\n",
    "**Sample Input to function `generate_report`:**\n",
    "\n",
    "```plaintext\n",
    "(\"Monthly Sales Report\", \n",
    " \"Introduction: Overview of sales performance.\", \n",
    " \"Data Analysis: Breakdown of sales data by region.\", \n",
    " \"Market Trends: Analysis of current market trends.\", \n",
    " author=\"John Doe\", \n",
    " date=\"September 2024\", \n",
    " conclusion=\"Overall, sales have increased by 15% compared to the previous month.\", \n",
    " skip_sections=[2])\n",
    "```\n",
    "\n",
    "**Challenge:** Add the ability to include optional sections or skip sections based on keyword arguments."
   ]
  },
  {
   "cell_type": "code",
   "execution_count": null,
   "metadata": {
    "colab": {
     "base_uri": "https://localhost:8080/"
    },
    "executionInfo": {
     "elapsed": 516,
     "status": "ok",
     "timestamp": 1725601304784,
     "user": {
      "displayName": "Rajesh Singh",
      "userId": "16082860657877942970"
     },
     "user_tz": -330
    },
    "id": "N28aO-jvwDQ-",
    "outputId": "41874dd9-970b-41d6-944e-b5a49c4b1700"
   },
   "outputs": [
    {
     "name": "stdout",
     "output_type": "stream",
     "text": [
      "Report Title: Monthly Sales Report\n",
      "====================\n",
      "Author: John Doe\n",
      "Date: September 2024\n",
      "\n",
      "Report Sections:\n",
      "--------------\n",
      "Section 0: Introduction: Overview of sales performance.\n",
      "Section 1: Data Analysis: Breakdown of sales data by region.\n",
      "\n",
      "Conclusion\n",
      "----------\n",
      "Overall, sales have Increased by 15% compared to the previous month.\n"
     ]
    }
   ],
   "source": [
    "\n",
    "def report_generator(title, *args, **kwargs):\n",
    "    print(f'Report Title: {title}')\n",
    "    print(20 * '=')\n",
    "    print(f\"Author: {kwargs['author']}\")\n",
    "    print(f\"Date: {kwargs['date']}\")\n",
    "\n",
    "    print('\\nReport Sections:')\n",
    "    print(14 * '-')\n",
    "    for idx, rep in enumerate(args):  # Changed accumulate to enumerate\n",
    "        if idx not in kwargs['skip_sections']:\n",
    "            print(f'Section {idx}: {rep}')\n",
    "\n",
    "    print('\\nConclusion')\n",
    "    print(10 * '-')\n",
    "    print(kwargs['conclusion'])\n",
    "\n",
    "report_generator(\"Monthly Sales Report\", \"Introduction: Overview of sales performance.\", \"Data Analysis: Breakdown of sales data by region.\", \"Market Trends: Analysis of current market trends.\", author=\"John Doe\", date=\"September 2024\", conclusion=\"Overall, sales have Increased by 15% compared to the previous month.\", skip_sections=[2])"
   ]
  },
  {
   "cell_type": "markdown",
   "metadata": {
    "id": "KGIDfY1kBplB"
   },
   "source": [
    "### Assignment 3: Global and Local Summation\n",
    "\n",
    "**Objective:** Create a program that calculates the sum of numbers using both global and local variables.\n",
    "\n",
    "**Tasks:**\n",
    "\n",
    "- Declare a global variable to store the sum of numbers.\n",
    "- Write a function that accepts a list of numbers and calculates the sum using a local variable.\n",
    "- Update the global sum variable with the local sum calculated in the function.\n",
    "- Print the global sum before and after calling the function.\n",
    "\n",
    "**Challenge:** Implement another function that resets the global sum to zero and compare the results."
   ]
  },
  {
   "cell_type": "code",
   "execution_count": null,
   "metadata": {
    "colab": {
     "base_uri": "https://localhost:8080/"
    },
    "executionInfo": {
     "elapsed": 528,
     "status": "ok",
     "timestamp": 1725602104870,
     "user": {
      "displayName": "Rajesh Singh",
      "userId": "16082860657877942970"
     },
     "user_tz": -330
    },
    "id": "5cJBWqhF4Whz",
    "outputId": "6dc50d5d-9447-46d9-f0db-c16ef60a9c24"
   },
   "outputs": [
    {
     "name": "stdout",
     "output_type": "stream",
     "text": [
      "Global sum before: 0\n",
      "Local sum: 15\n",
      "Global sum after: 15\n",
      "Global sum after reset: 0\n"
     ]
    }
   ],
   "source": [
    "\n",
    "global_sum = 0\n",
    "\n",
    "def calculate_local_sum(numbers):\n",
    "    local_sum = sum(numbers)\n",
    "    global global_sum\n",
    "    global_sum += local_sum\n",
    "    return local_sum\n",
    "\n",
    "def reset_global_sum():\n",
    "    global global_sum\n",
    "    global_sum = 0\n",
    "\n",
    "numbers = [1, 2, 3, 4, 5]\n",
    "print(\"Global sum before:\", global_sum)\n",
    "local_sum = calculate_local_sum(numbers)\n",
    "print(\"Local sum:\", local_sum)\n",
    "print(\"Global sum after:\", global_sum)\n",
    "reset_global_sum()\n",
    "print(\"Global sum after reset:\", global_sum)"
   ]
  },
  {
   "cell_type": "markdown",
   "metadata": {
    "id": "ITtySi5R9hAw"
   },
   "source": [
    "#Scope#"
   ]
  },
  {
   "cell_type": "code",
   "execution_count": null,
   "metadata": {
    "colab": {
     "base_uri": "https://localhost:8080/",
     "height": 141
    },
    "executionInfo": {
     "elapsed": 523,
     "status": "error",
     "timestamp": 1725607417434,
     "user": {
      "displayName": "Rajesh Singh",
      "userId": "16082860657877942970"
     },
     "user_tz": -330
    },
    "id": "pp6eyenC9fSs",
    "outputId": "d26a2c61-67b9-470b-a0d6-a7e91b1e2d37"
   },
   "outputs": [
    {
     "ename": "SyntaxError",
     "evalue": "name 'x' is used prior to nonlocal declaration (<ipython-input-41-f359ba68d683>, line 13)",
     "output_type": "error",
     "traceback": [
      "\u001b[0;36m  File \u001b[0;32m\"<ipython-input-41-f359ba68d683>\"\u001b[0;36m, line \u001b[0;32m13\u001b[0m\n\u001b[0;31m    nonlocal x\u001b[0m\n\u001b[0m    ^\u001b[0m\n\u001b[0;31mSyntaxError\u001b[0m\u001b[0;31m:\u001b[0m name 'x' is used prior to nonlocal declaration\n"
     ]
    }
   ],
   "source": [
    "\n",
    "x = \"global\"\n",
    "\n",
    "def outer():\n",
    "    x = \"enclosing\"\n",
    "\n",
    "    def inner():\n",
    "        global x\n",
    "        print(\"Global:\", x)\n",
    "\n",
    "        x_local = \"local\"\n",
    "        print(\"Local:\", x_local)\n",
    "\n",
    "        nonlocal x\n",
    "        print(\"Enclosing:\", x)\n",
    "\n",
    "        x = \"modified enclosing\"\n",
    "\n",
    "    inner()\n",
    "    print(\"Outer after inner:\", x)\n",
    "\n",
    "outer()\n",
    "print(\"Global after inner:\", x)"
   ]
  },
  {
   "cell_type": "markdown",
   "metadata": {
    "id": "UAidR5sH_HFm"
   },
   "source": [
    "# Lambda functions #"
   ]
  },
  {
   "cell_type": "markdown",
   "metadata": {
    "id": "7lBs8Q-dBNwu"
   },
   "source": [
    "### Assignment 4: Conditional Lambda Functions\n",
    "\n",
    "**Objective:** Create a program that uses a lambda function to check if a number is positive, negative, or zero.\n",
    "\n",
    "#### Tasks:\n",
    "\n",
    "1. **Input:** List of integers. E.g. `numbers = [10, -5, 0, 7, -3, 4, -2]`\n",
    "2. **Logic:** Use the `map()` function with a lambda function to return \"Positive\", \"Negative\", or \"Zero\" based on the value of each integer.\n",
    "3. **Output:** Display the resulting list of strings.  \n",
    "   E.g.: `['Positive', 'Negative', 'Zero', 'Positive', 'Negative', 'Positive', 'Negative']`"
   ]
  },
  {
   "cell_type": "code",
   "execution_count": null,
   "metadata": {
    "colab": {
     "base_uri": "https://localhost:8080/"
    },
    "executionInfo": {
     "elapsed": 564,
     "status": "ok",
     "timestamp": 1725604090830,
     "user": {
      "displayName": "Rajesh Singh",
      "userId": "16082860657877942970"
     },
     "user_tz": -330
    },
    "id": "Cn5eZHYk_UsO",
    "outputId": "161b5655-899c-4d11-f595-fa5bff5f0bea"
   },
   "outputs": [
    {
     "name": "stdout",
     "output_type": "stream",
     "text": [
      "['Positive', 'Negative', 'Positive', 'Positive', 'Zero', 'Negative', 'Positive', 'Positive', 'Negative', 'Positive', 'Zero']\n"
     ]
    }
   ],
   "source": [
    "\n",
    "nums = [1,-2,3,4,0,-5,6,7,-8,9,0]\n",
    "to_sign_str = lambda x: 'Negative' if x<0 else 'Positive' if x > 0 else 'Zero'\n",
    "print(list(map(to_sign_str,nums)))"
   ]
  },
  {
   "cell_type": "markdown",
   "metadata": {
    "id": "lBN2zXPeDldA"
   },
   "source": [
    "#Recursion#"
   ]
  },
  {
   "cell_type": "markdown",
   "metadata": {
    "id": "HMwLzNGfFbFZ"
   },
   "source": [
    "### Assignment 5: Convert factorial program to use recursive functions"
   ]
  },
  {
   "cell_type": "code",
   "execution_count": null,
   "metadata": {
    "colab": {
     "base_uri": "https://localhost:8080/"
    },
    "executionInfo": {
     "elapsed": 716,
     "status": "ok",
     "timestamp": 1725605570460,
     "user": {
      "displayName": "Rajesh Singh",
      "userId": "16082860657877942970"
     },
     "user_tz": -330
    },
    "id": "j6lmblWpEbdG",
    "outputId": "f65309f4-0c26-4280-b6dd-76382d87df18"
   },
   "outputs": [
    {
     "name": "stdout",
     "output_type": "stream",
     "text": [
      "120\n"
     ]
    }
   ],
   "source": [
    "def factorial_recursive(n):\n",
    "    if n == 0:\n",
    "        return 1\n",
    "    else:\n",
    "        return n * factorial_recursive(n - 1)\n",
    "\n",
    "print(factorial_recursive(5))"
   ]
  },
  {
   "cell_type": "markdown",
   "metadata": {
    "id": "0Zbw4ZxGFcw3"
   },
   "source": [
    "# Exception Handling #"
   ]
  },
  {
   "cell_type": "markdown",
   "metadata": {
    "id": "7g3mggAZJvEK"
   },
   "source": [
    "### Assignment 6: Define functions which handle exceptions\n",
    "\n",
    "#### Function 1: `get_integer_input`\n",
    "- **Description**: Accepts an integer and prints it.\n",
    "- **Exception to handle**: `ValueError` exceptions.\n",
    "\n",
    "#### Function 2: `get_element_from_list`\n",
    "- **Description**: Attempts to return element at specified index from list.\n",
    "- **Exceptions to handle**:\n",
    "  - `IndexError`: if the index is out of bounds.\n",
    "  - `TypeError`: if the index is not an integer.\n",
    "- **Use**: \n",
    "  - `else`: Print the element if no exceptions occur.\n",
    "  - `finally`: Indicate operation completion.\n",
    "\n",
    "#### Function 3: `divide_numbers(a, b)`\n",
    "- **Description**: Raises `ZeroDivisionError` if `b` is zero.\n",
    "- **Exception to handle**: `ZeroDivisionError` - Custom message in body."
   ]
  },
  {
   "cell_type": "code",
   "execution_count": null,
   "metadata": {
    "colab": {
     "base_uri": "https://localhost:8080/"
    },
    "executionInfo": {
     "elapsed": 11302,
     "status": "ok",
     "timestamp": 1725606762992,
     "user": {
      "displayName": "Rajesh Singh",
      "userId": "16082860657877942970"
     },
     "user_tz": -330
    },
    "id": "umdbYLLFJxbw",
    "outputId": "861ca273-58e6-4060-a615-8d68c5cb9c65"
   },
   "outputs": [
    {
     "name": "stdout",
     "output_type": "stream",
     "text": [
      "Enter an integer: 14\n",
      "You entered: 14\n",
      "Enter index\n",
      "Enter an integer: 5\n",
      "Index out of bounds.\n",
      "Operation completed.\n",
      "Element at index 5 : None\n",
      "Error: Division by zero is not allowed.\n",
      "An error occurred during division.\n"
     ]
    }
   ],
   "source": [
    "\n",
    "\n",
    "def get_integer_input():\n",
    "    while True:\n",
    "        try:\n",
    "            number = int(input(\"Enter an integer: \"))\n",
    "            return number\n",
    "        except ValueError:\n",
    "            print(\"Invalid input. Please enter a valid integer.\")\n",
    "\n",
    "def get_element_from_list(elements, index):\n",
    "    try:\n",
    "        return elements[index]\n",
    "    except IndexError:\n",
    "        print(\"Index out of bounds.\")\n",
    "        return None\n",
    "    except TypeError:\n",
    "        print(\"Index must be an integer.\")\n",
    "        return None\n",
    "    else:\n",
    "        print(\"Element successfully retrieved.\")\n",
    "    finally:\n",
    "        print(\"Operation completed.\")\n",
    "\n",
    "def divide_numbers(a, b):\n",
    "    try:\n",
    "        return a / b\n",
    "    except ZeroDivisionError:\n",
    "        print(\"Error: Division by zero is not allowed.\")\n",
    "        raise  # Re-raise the exception with the original message\n",
    "\n",
    "\n",
    "integer_value = get_integer_input()\n",
    "print(\"You entered:\", integer_value)\n",
    "\n",
    "my_list = [10, 20, 30]\n",
    "print(\"Enter index\")\n",
    "index = get_integer_input()\n",
    "element = get_element_from_list(my_list, index)\n",
    "print(\"Element at index\", index, \":\", element)\n",
    "\n",
    "try:\n",
    "    result = divide_numbers(15, 0)\n",
    "    print(\"Result:\", result)\n",
    "except ZeroDivisionError:\n",
    "    print(\"An error occurred during division.\")"
   ]
  },
  {
   "cell_type": "markdown",
   "metadata": {
    "id": "HllYnGVVOrNV"
   },
   "source": [
    "#Doc String#"
   ]
  },
  {
   "cell_type": "code",
   "execution_count": null,
   "metadata": {
    "colab": {
     "base_uri": "https://localhost:8080/"
    },
    "executionInfo": {
     "elapsed": 819,
     "status": "ok",
     "timestamp": 1725607874241,
     "user": {
      "displayName": "Rajesh Singh",
      "userId": "16082860657877942970"
     },
     "user_tz": -330
    },
    "id": "9Ery7F34OwLG",
    "outputId": "ad533b41-7301-4a0d-c996-b9184dd87fc2"
   },
   "outputs": [
    {
     "name": "stdout",
     "output_type": "stream",
     "text": [
      "The sum of 5 and 3 is: 8\n",
      "\n",
      "This module shows how to use doc string \n",
      "\n",
      "About my_function \n",
      "    This function calculates the sum of two numbers.\n",
      "    Args:\n",
      "        x (int or float): The first number to be added.\n",
      "        y (int or float): The second number to be added.\n",
      "    Returns:\n",
      "        int or float: The sum of x and y.\n",
      "    \n"
     ]
    }
   ],
   "source": [
    "\"\"\"\n",
    "This module shows how to use doc string\n",
    "\"\"\"\n",
    "\n",
    "def my_function(x:float , y:float)->float:\n",
    "    \"\"\"\n",
    "    This function calculates the sum of two numbers.\n",
    "    Args:\n",
    "        x (int or float): The first number to be added.\n",
    "        y (int or float): The second number to be added.\n",
    "    Returns:\n",
    "        int or float: The sum of x and y.\n",
    "    \"\"\"\n",
    "\n",
    "    result = x + y\n",
    "    return result\n",
    "\n",
    "sum_of_numbers = my_function(5, 3)\n",
    "print(\"The sum of 5 and 3 is:\", sum_of_numbers)\n",
    "\n",
    "print(__doc__)\n",
    "print(\"About my_function\", my_function.__doc__)"
   ]
  },
  {
   "cell_type": "markdown",
   "metadata": {
    "id": "fnkSgRXRehc2"
   },
   "source": [
    "#File Type and Encoding#"
   ]
  },
  {
   "cell_type": "markdown",
   "metadata": {
    "id": "oqzJRf58fMQk"
   },
   "source": [
    "### File Types and Encodings\n",
    "\n",
    "#### Text Files\n",
    "- `.txt`\n",
    "- `.csv`\n",
    "- `.log`\n",
    "- `.md`\n",
    "\n",
    "#### Document Files\n",
    "- `.docx`\n",
    "- `.xlsx`\n",
    "- `.pdf`\n",
    "\n",
    "#### Configuration Files\n",
    "- `.ini`\n",
    "- `.json`\n",
    "- `.yaml`\n",
    "- `.xml`\n",
    "\n",
    "#### Database Files\n",
    "- `.db`\n",
    "- `.sqlite`\n",
    "- `.mdb`"
   ]
  },
  {
   "cell_type": "code",
   "execution_count": null,
   "metadata": {
    "colab": {
     "base_uri": "https://localhost:8080/"
    },
    "executionInfo": {
     "elapsed": 579,
     "status": "ok",
     "timestamp": 1725614604242,
     "user": {
      "displayName": "Rajesh Singh",
      "userId": "16082860657877942970"
     },
     "user_tz": -330
    },
    "id": "o_FRFkRQeqK5",
    "outputId": "f7856bf3-242a-4162-d257-0c16608d579e"
   },
   "outputs": [
    {
     "name": "stdout",
     "output_type": "stream",
     "text": [
      "Title: Monthly Sales Report\n",
      "====================\n",
      "Author: John Doe\n",
      "Date: September 2024\n",
      "\n",
      "Report Sections:\n",
      "--------------\n",
      "Section 0: Introduction: Overview of sales performance.\n",
      "Section 1: Data Analysis: Breakdown of sales data by region.\n",
      "\n",
      "Conclusion\n",
      "----------\n",
      "Overall, sales have Increased by 15% compared to the previous month.\n",
      "Title: Monthly Sales Report\n",
      "====================\n",
      "Author: John Doe\n",
      "Date: September 2024\n",
      "\n",
      "Report Sections:\n",
      "--------------\n",
      "Section 0: Introduction: Overview of sales performance.\n",
      "Section 1: Data Analysis: Breakdown of sales data by region.\n",
      "\n",
      "Conclusion\n",
      "----------\n",
      "Overall, sales have Increased by 15% compared to the previous month.\n",
      "Title: Monthly Sales Report\n",
      "====================\n",
      "Author: John Doe\n",
      "Date: September 2024\n",
      "\n",
      "Report Sections:\n",
      "--------------\n",
      "Section 0: Introduction: Overview of sales performance.\n",
      "Section 1: Data Analysis: Breakdown of sales data by region.\n",
      "\n",
      "Conclusion\n",
      "----------\n",
      "Overall, sales have Increased by 15% compared to the previous month.\n",
      "\n"
     ]
    }
   ],
   "source": [
    "\n",
    "def report_generator(title, *args, **kwargs):\n",
    "    content =[]\n",
    "    content.append(f'Title: {title}')\n",
    "    content.append(20 * '=')\n",
    "    content.append(f\"Author: {kwargs['author']}\")\n",
    "    content.append(f\"Date: {kwargs['date']}\")\n",
    "\n",
    "    content.append('\\nReport Sections:')\n",
    "    content.append(14 * '-')\n",
    "    for idx, rep in enumerate(args):  # Changed accumulate to enumerate\n",
    "        if idx not in kwargs['skip_sections']:\n",
    "            content.append(f'Section {idx}: {rep}')\n",
    "\n",
    "    content.append('\\nConclusion')\n",
    "    content.append(10 * '-')\n",
    "    content.append(kwargs['conclusion'])\n",
    "\n",
    "    return content\n",
    "\n",
    "\n",
    "def write_to_file(filename, data):\n",
    "    with open(filename,'w') as file:\n",
    "        file.write(data)\n",
    "\n",
    "def append_to_file(filename, data):\n",
    "    with open(filename,'a') as file:\n",
    "        file.write(data)\n",
    "\n",
    "def read_from_file(filename):\n",
    "    try:\n",
    "        with open(filename,'r') as file:\n",
    "            contents = file.read()\n",
    "            print(contents)\n",
    "    except FileNotFoundError:\n",
    "        print(f'file {filename} is not present')\n",
    "\n",
    "contents = report_generator(\"Monthly Sales Report\", \"Introduction: Overview of sales performance.\", \"Data Analysis: Breakdown of sales data by region.\", \"Market Trends: Analysis of current market trends.\", author=\"John Doe\", date=\"September 2024\", conclusion=\"Overall, sales have Increased by 15% compared to the previous month.\", skip_sections=[2])\n",
    "\n",
    "filename = 'report.txt'\n",
    "\n",
    "for data in contents:\n",
    "    append_to_file(filename, data)\n",
    "    append_to_file(filename, '\\n')\n",
    "\n",
    "read_from_file(filename)"
   ]
  },
  {
   "cell_type": "markdown",
   "metadata": {
    "id": "nZee2VlzpYSx"
   },
   "source": [
    "Assignment 10: Replace a Keyword in a Text File\n",
    "  \n",
    "  • Search for all occurrences of keyword 'after', replace it with 'before'. Save modified content back to file.\n",
    "\n",
    "  • Create functions wherever appropriate.\n",
    "\n",
    "  • Handle the exception\n",
    "\n",
    "FileNotFoundError"
   ]
  },
  {
   "cell_type": "code",
   "execution_count": null,
   "metadata": {
    "colab": {
     "base_uri": "https://localhost:8080/"
    },
    "executionInfo": {
     "elapsed": 808,
     "status": "ok",
     "timestamp": 1725616034979,
     "user": {
      "displayName": "Rajesh Singh",
      "userId": "16082860657877942970"
     },
     "user_tz": -330
    },
    "id": "K0HjSwMcpp-X",
    "outputId": "1836c1ef-80da-458c-e37d-11fe5e25c33c"
   },
   "outputs": [
    {
     "name": "stdout",
     "output_type": "stream",
     "text": [
      "Replaced all occurrences of 'after' with 'before' in example.txt\n",
      "This is a sample text with the keyword before that needs to be replaced before it appears.\n"
     ]
    }
   ],
   "source": [
    "def write_to_file(filename, data):\n",
    "    try:\n",
    "        with open(filename, 'w') as file:\n",
    "            file.write(data)\n",
    "    except FileNotFoundError:\n",
    "        print(f'File {filename} is not present')\n",
    "\n",
    "def append_to_file(filename, data):\n",
    "    try:\n",
    "        with open(filename, 'a') as file:\n",
    "            file.write(data)\n",
    "    except FileNotFoundError:\n",
    "        print(f'File {filename} is not present')\n",
    "\n",
    "def read_from_file(filename):\n",
    "    try:\n",
    "        with open(filename, 'r') as file:\n",
    "            contents = file.read()\n",
    "            print(contents)\n",
    "    except FileNotFoundError:\n",
    "        print(f'File {filename} is not present')\n",
    "\n",
    "def replace_keyword_in_file(filename, old_keyword, new_keyword):\n",
    "    try:\n",
    "        with open(filename, 'r') as file:\n",
    "            contents = file.read()\n",
    "\n",
    "        modified_contents = contents.replace(old_keyword, new_keyword)\n",
    "\n",
    "        with open(filename, 'w') as file:\n",
    "            file.write(modified_contents)\n",
    "\n",
    "        print(f\"Replaced all occurrences of '{old_keyword}' with '{new_keyword}' in {filename}\")\n",
    "    except FileNotFoundError:\n",
    "        print(f'File {filename} is not present')\n",
    "\n",
    "filename = 'example.txt'\n",
    "data = \"This is a sample text with the keyword after that needs to be replaced after it appears.\"\n",
    "write_to_file(filename, data)\n",
    "replace_keyword_in_file(filename, 'after', 'before')\n",
    "read_from_file(filename)"
   ]
  },
  {
   "cell_type": "markdown",
   "metadata": {
    "id": "LYn6JBhEvAFh"
   },
   "source": [
    "### Assignment 11: Writing Data to a CSV File\n",
    "\n",
    "#### Define Data:\n",
    "\n",
    "Create a list of dictionaries where each dictionary represents a student's record with the following fields:\n",
    "\n",
    "- **ID**\n",
    "- **Name**\n",
    "- **Age**\n",
    "- **Grade**\n",
    "\n",
    "#### Instructions:\n",
    "\n",
    "- Use the `csv` module to write the list of dictionaries to a CSV file named `students.csv`.\n",
    "- The CSV file should have headers based on the dictionary keys: ID, Name, Age, and Grade.\n",
    "- Ensure that each record is written to a new row in the CSV file.\n",
    "\n",
    "#### Function Definition:\n",
    "\n",
    "**Function 1:** `write_students_to_csv(filename: str, student_list: list)`\n",
    "\n",
    "- Use the `csv.DictWriter` class to write the dictionaries to the CSV file.\n",
    "- Make sure to include a header row with the keys of the dictionaries.\n",
    "\n",
    "**Function 2:** `read_csv_and_print(filename: str)`"
   ]
  },
  {
   "cell_type": "code",
   "execution_count": null,
   "metadata": {
    "colab": {
     "base_uri": "https://localhost:8080/"
    },
    "executionInfo": {
     "elapsed": 642,
     "status": "ok",
     "timestamp": 1725616754794,
     "user": {
      "displayName": "Rajesh Singh",
      "userId": "16082860657877942970"
     },
     "user_tz": -330
    },
    "id": "ecTECjZ7vCDO",
    "outputId": "7e26e15a-1f36-4b8a-90ec-73b7046e2019"
   },
   "outputs": [
    {
     "name": "stdout",
     "output_type": "stream",
     "text": [
      "ID             Name           Age            Grade          \n",
      "1              Alice          20             A              \n",
      "2              Bob            21             B              \n",
      "3              Charlie        22             C              \n"
     ]
    }
   ],
   "source": [
    "import csv\n",
    "\n",
    "def write_students_to_csv(filename: str, student_list: list, fieldnames:list):\n",
    "    try:\n",
    "        with open(filename, 'w', newline='') as csvfile:\n",
    "            writer = csv.DictWriter(csvfile, fieldnames=fieldnames)\n",
    "            writer.writeheader()\n",
    "            writer.writerows(student_list)\n",
    "    except FileNotFoundError:\n",
    "        print(f'File {filename} is not present')\n",
    "\n",
    "def read_csv_and_print(filename: str, fieldnames:list):\n",
    "    try:\n",
    "        with open(filename, 'r') as csvfile:\n",
    "            reader = csv.DictReader(csvfile)\n",
    "            for header in fieldnames:\n",
    "                    print(f'{header:15}', end='')\n",
    "            print()\n",
    "            for row in reader:\n",
    "                for value in row.values():\n",
    "                    print(f'{value:15}', end='')\n",
    "                print()\n",
    "    except FileNotFoundError:\n",
    "        print(f'File {filename} is not present')\n",
    "\n",
    "fieldnames = ['ID', 'Name', 'Age', 'Grade']\n",
    "\n",
    "students = [\n",
    "    {'ID': '1', 'Name': 'Alice', 'Age': 20, 'Grade': 'A'},\n",
    "    {'ID': '2', 'Name': 'Bob', 'Age': 21, 'Grade': 'B'},\n",
    "    {'ID': '3', 'Name': 'Charlie', 'Age': 22, 'Grade': 'C'}\n",
    "]\n",
    "\n",
    "write_students_to_csv('students.csv', students, fieldnames )\n",
    "read_csv_and_print('students.csv', fieldnames)"
   ]
  },
  {
   "cell_type": "markdown",
   "metadata": {
    "id": "AcFueQi5y3Ia"
   },
   "source": [
    "### Assignment 12: Merging Files\n",
    "\n",
    "Create a Python program that merges the contents of multiple text files into a single list, removes duplicate lines, and saves the unique lines to a new file.\n",
    "\n",
    "**Input:** Two or more text files, each containing several lines of text.\n",
    "\n",
    "**Logic:**\n",
    "\n",
    "1. Read the content of each file into separate lists.\n",
    "2. Merge the lists into a single list.\n",
    "3. Convert the list to a set to remove duplicate lines.\n",
    "4. Write unique lines to a new file named `merged_unique.txt`.\n",
    "\n",
    "**Output:** Display the merged list and confirm that the unique lines have been saved."
   ]
  },
  {
   "cell_type": "code",
   "execution_count": null,
   "metadata": {
    "colab": {
     "base_uri": "https://localhost:8080/"
    },
    "executionInfo": {
     "elapsed": 641,
     "status": "ok",
     "timestamp": 1725618694369,
     "user": {
      "displayName": "Rajesh Singh",
      "userId": "16082860657877942970"
     },
     "user_tz": -330
    },
    "id": "ILL8pRAwy4Jf",
    "outputId": "b0d66768-c7ea-4e2c-b75b-179492345529"
   },
   "outputs": [
    {
     "name": "stdout",
     "output_type": "stream",
     "text": [
      "\n",
      "This is a common line 5.\n",
      "Unique line 6 in report2.\n",
      "Unique line 9 in report2.\n",
      "This is a common line 1.\n",
      "Unique line 5 in report1.\n",
      "Unique line 3 in report2.\n",
      "Unique line 10 in report1.\n",
      "Unique line 7 in report2.\n",
      "Unique line 3 in report1.\n",
      "This is a common line 3.\n",
      "Unique line 14 in report1.\n",
      "Unique line 8 in report2.\n",
      "Unique line 4 in report1.\n",
      "Unique line 6 in report1.\n",
      "Unique line 11 in report1.\n",
      "Unique line 13 in report1.\n",
      "Unique line 4 in report2.\n",
      "Unique line 12 in report2.\n",
      "Unique line 9 in report1.\n",
      "Unique line 2 in report1.\n",
      "Unique line 8 in report1.\n",
      "Unique line 12 in report1.\n",
      "This is a common line 2.\n",
      "This is a common line 4.\n",
      "Unique line 5 in report2.\n",
      "Unique line 10 in report2.\n",
      "Unique line 14 in report2.\n",
      "Unique line 15 in report1.\n",
      "Unique line 1 in report1.\n",
      "Unique line 2 in report2.\n",
      "Unique line 7 in report1.\n",
      "Unique line 11 in report2.\n",
      "Unique line 13 in report2.\n",
      "Unique line 1 in report2.\n",
      "Unique line 15 in report2.\n",
      "\n"
     ]
    }
   ],
   "source": [
    "def write_to_file(filename, data):\n",
    "    try:\n",
    "        with open(filename, 'w') as file:\n",
    "            file.write(data)\n",
    "    except FileNotFoundError:\n",
    "        print(f'File {filename} is not present')\n",
    "\n",
    "def append_to_file(filename, data):\n",
    "    try:\n",
    "        with open(filename, 'a') as file:\n",
    "            file.write(data)\n",
    "    except FileNotFoundError:\n",
    "        print(f'File {filename} is not present')\n",
    "\n",
    "def read_from_file(filename):\n",
    "    try:\n",
    "        with open(filename, 'r') as file:\n",
    "            return file.read()\n",
    "    except FileNotFoundError:\n",
    "        print(f'File {filename} is not present')\n",
    "\n",
    "filename1 = 'report1.txt'\n",
    "filename2 = 'report2.txt'\n",
    "filename3 = 'merged_unique.txt'\n",
    "\n",
    "content1 = read_from_file(filename1)\n",
    "content2 = read_from_file(filename2)\n",
    "\n",
    "content_merged = list(content1.split('\\n'))+list(content2.split('\\n'))\n",
    "content_unique = set(content_merged)\n",
    "\n",
    "for line in content_unique:\n",
    "    append_to_file(filename3, line+'\\n')\n",
    "\n",
    "print(read_from_file(filename3))"
   ]
  },
  {
   "cell_type": "markdown",
   "metadata": {
    "id": "eVqJKsZy4kjD"
   },
   "source": [
    "### Home Assignment 1: Temperature Converter\n",
    "\n",
    "#### Input from User:\n",
    "- Temperature value and unit\n",
    "- Temperature unit to convert to\n",
    "\n",
    "#### Functions:\n",
    "- `celsius_to_fahrenheit(celsius)`\n",
    "- `fahrenheit_to_celsius(fahrenheit)`\n",
    "- `celsius_to_kelvin(celsius)`\n",
    "\n",
    "#### Exception Handling:\n",
    "- Employ exception handling for checking numeric values.\n",
    "\n",
    "#### Finally and Else Block:\n",
    "- Include a finally and else block in the implementation."
   ]
  },
  {
   "cell_type": "code",
   "execution_count": null,
   "metadata": {
    "id": "4vifjPvowBdd"
   },
   "outputs": [],
   "source": [
    "def celsius_to_fahrenheit(celsius):\n",
    "    return (celsius * 9/5) + 32\n",
    "\n",
    "def fahrenheit_to_celsius(fahrenheit):\n",
    "    return (fahrenheit - 32) * 5/9\n",
    "\n",
    "def celsius_to_kelvin(celsius):\n",
    "    return celsius + 273.15\n",
    "\n",
    "def main():\n",
    "    try:\n",
    "        temperature_value = float(input(\"Enter temperature value: \"))\n",
    "        temperature_unit = input(\"Enter temperature unit (C/F/K): \").upper()\n",
    "        convert_to = input(\"Enter unit to convert to (C/F/K): \").upper()\n",
    "\n",
    "        if temperature_unit == \"C\" and convert_to == \"F\":\n",
    "            print(f\"{temperature_value}°C is equal to {celsius_to_fahrenheit(temperature_value)}°F\")\n",
    "        elif temperature_unit == \"F\" and convert_to == \"C\":\n",
    "            print(f\"{temperature_value}°F is equal to {fahrenheit_to_celsius(temperature_value)}°C\")\n",
    "        elif temperature_unit == \"C\" and convert_to == \"K\":\n",
    "            print(f\"{temperature_value}°C is equal to {celsius_to_kelvin(temperature_value)}K\")\n",
    "        else:\n",
    "            print(\"Invalid unit or conversion. Please try again.\")\n",
    "\n",
    "    except ValueError:\n",
    "        print(\"Invalid input. Please enter a numeric value.\")\n",
    "\n",
    "    finally:\n",
    "        print(\"Temperature conversion complete.\")\n",
    "\n",
    "if __name__ == \"__main__\":\n",
    "    main()"
   ]
  }
 ],
 "metadata": {
  "colab": {
   "authorship_tag": "ABX9TyOGxhs6MFu2Ykj49roo2s+8",
   "collapsed_sections": [
    "FY0jxt3w_PwC",
    "ITtySi5R9hAw",
    "UAidR5sH_HFm",
    "lBN2zXPeDldA",
    "0Zbw4ZxGFcw3"
   ],
   "provenance": []
  },
  "kernelspec": {
   "display_name": "Python 3 (ipykernel)",
   "language": "python",
   "name": "python3"
  },
  "language_info": {
   "codemirror_mode": {
    "name": "ipython",
    "version": 3
   },
   "file_extension": ".py",
   "mimetype": "text/x-python",
   "name": "python",
   "nbconvert_exporter": "python",
   "pygments_lexer": "ipython3",
   "version": "3.8.10"
  }
 },
 "nbformat": 4,
 "nbformat_minor": 4
}
